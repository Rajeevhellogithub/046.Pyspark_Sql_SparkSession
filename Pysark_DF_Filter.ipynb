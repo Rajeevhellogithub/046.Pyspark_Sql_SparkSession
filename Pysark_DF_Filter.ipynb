{
 "cells": [
  {
   "cell_type": "code",
   "execution_count": 1,
   "id": "7e9b83c2-e92d-46f4-80e1-8b6944a83242",
   "metadata": {},
   "outputs": [],
   "source": [
    "from pyspark.sql import SparkSession\n",
    "spark=SparkSession.builder.appName('dataframe').getOrCreate()"
   ]
  },
  {
   "cell_type": "code",
   "execution_count": 2,
   "id": "2eda7e0e-d622-492c-a134-9343eba0e5dc",
   "metadata": {},
   "outputs": [
    {
     "name": "stdout",
     "output_type": "stream",
     "text": [
      "+--------+---+----------+------+\n",
      "|    Name|age|Experience|Salary|\n",
      "+--------+---+----------+------+\n",
      "|    jack| 31|        10| 30000|\n",
      "|    alex| 30|         8| 25000|\n",
      "|caroline| 29|         4| 20000|\n",
      "|    paul| 24|         3| 20000|\n",
      "|  sandra| 21|         1| 15000|\n",
      "|casandra| 23|         2| 18000|\n",
      "+--------+---+----------+------+\n",
      "\n"
     ]
    }
   ],
   "source": [
    "df_pyspark = spark.read.csv('sample1.csv', header=True, inferSchema=True)\n",
    "df_pyspark.show()"
   ]
  },
  {
   "cell_type": "code",
   "execution_count": 3,
   "id": "5c25804e-eb34-4a64-ae0c-a66bfd6c38eb",
   "metadata": {},
   "outputs": [
    {
     "name": "stdout",
     "output_type": "stream",
     "text": [
      "+--------+---+----------+------+\n",
      "|    Name|age|Experience|Salary|\n",
      "+--------+---+----------+------+\n",
      "|caroline| 29|         4| 20000|\n",
      "|    paul| 24|         3| 20000|\n",
      "|  sandra| 21|         1| 15000|\n",
      "|casandra| 23|         2| 18000|\n",
      "+--------+---+----------+------+\n",
      "\n"
     ]
    }
   ],
   "source": [
    "df_pyspark.filter(\"Salary<=20000\").show()"
   ]
  },
  {
   "cell_type": "code",
   "execution_count": 4,
   "id": "ca745f91-5c20-45ee-8b23-68c27e3897b9",
   "metadata": {},
   "outputs": [
    {
     "name": "stdout",
     "output_type": "stream",
     "text": [
      "+--------+---+\n",
      "|    Name|age|\n",
      "+--------+---+\n",
      "|caroline| 29|\n",
      "|    paul| 24|\n",
      "|  sandra| 21|\n",
      "|casandra| 23|\n",
      "+--------+---+\n",
      "\n"
     ]
    }
   ],
   "source": [
    "df_pyspark.filter(\"Salary<=20000\").select(['Name','age']).show()"
   ]
  },
  {
   "cell_type": "code",
   "execution_count": 5,
   "id": "bbfda139-0c0c-4451-9b2c-0666dcf22dc8",
   "metadata": {},
   "outputs": [
    {
     "name": "stdout",
     "output_type": "stream",
     "text": [
      "+--------+---+----------+------+\n",
      "|    Name|age|Experience|Salary|\n",
      "+--------+---+----------+------+\n",
      "|caroline| 29|         4| 20000|\n",
      "|    paul| 24|         3| 20000|\n",
      "|  sandra| 21|         1| 15000|\n",
      "|casandra| 23|         2| 18000|\n",
      "+--------+---+----------+------+\n",
      "\n"
     ]
    }
   ],
   "source": [
    "df_pyspark.filter(df_pyspark['Salary']<=20000).show()"
   ]
  },
  {
   "cell_type": "code",
   "execution_count": null,
   "id": "d3976e21-22b3-4842-ada8-1b7e6e52b559",
   "metadata": {},
   "outputs": [],
   "source": [
    "# &,|,==,~"
   ]
  },
  {
   "cell_type": "code",
   "execution_count": 6,
   "id": "ecbfe651-55fc-4e45-8ac0-0af294adc279",
   "metadata": {},
   "outputs": [
    {
     "name": "stdout",
     "output_type": "stream",
     "text": [
      "+--------+---+----------+------+\n",
      "|    Name|age|Experience|Salary|\n",
      "+--------+---+----------+------+\n",
      "|    jack| 31|        10| 30000|\n",
      "|    alex| 30|         8| 25000|\n",
      "|caroline| 29|         4| 20000|\n",
      "|    paul| 24|         3| 20000|\n",
      "|  sandra| 21|         1| 15000|\n",
      "|casandra| 23|         2| 18000|\n",
      "+--------+---+----------+------+\n",
      "\n"
     ]
    }
   ],
   "source": [
    "df_pyspark.filter((df_pyspark['Salary']<=20000) | \n",
    "                  (df_pyspark['Salary']>=15000)).show()"
   ]
  },
  {
   "cell_type": "code",
   "execution_count": 7,
   "id": "7d791f31-3f3c-4126-9384-b9bf265a3970",
   "metadata": {},
   "outputs": [
    {
     "name": "stdout",
     "output_type": "stream",
     "text": [
      "+----+---+----------+------+\n",
      "|Name|age|Experience|Salary|\n",
      "+----+---+----------+------+\n",
      "|jack| 31|        10| 30000|\n",
      "|alex| 30|         8| 25000|\n",
      "+----+---+----------+------+\n",
      "\n"
     ]
    }
   ],
   "source": [
    "df_pyspark.filter(~(df_pyspark['Salary']<=20000)).show()"
   ]
  }
 ],
 "metadata": {
  "kernelspec": {
   "display_name": "Python 3 (ipykernel)",
   "language": "python",
   "name": "python3"
  },
  "language_info": {
   "codemirror_mode": {
    "name": "ipython",
    "version": 3
   },
   "file_extension": ".py",
   "mimetype": "text/x-python",
   "name": "python",
   "nbconvert_exporter": "python",
   "pygments_lexer": "ipython3",
   "version": "3.12.4"
  }
 },
 "nbformat": 4,
 "nbformat_minor": 5
}
