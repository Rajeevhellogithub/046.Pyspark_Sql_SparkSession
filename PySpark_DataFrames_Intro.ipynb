{
 "cells": [
  {
   "cell_type": "markdown",
   "id": "add3fb39-75f9-4abf-9038-df62bee97dbb",
   "metadata": {
    "jp-MarkdownHeadingCollapsed": true
   },
   "source": [
    "## Install Libraries"
   ]
  },
  {
   "cell_type": "code",
   "execution_count": 1,
   "id": "c5630aab-9793-48dc-80ce-922e5dc9c481",
   "metadata": {},
   "outputs": [],
   "source": [
    "from pyspark.sql import SparkSession"
   ]
  },
  {
   "cell_type": "code",
   "execution_count": 2,
   "id": "a8a624b6-e4de-4dad-9dc4-9411babc1967",
   "metadata": {},
   "outputs": [],
   "source": [
    "spark=SparkSession.builder.appName('Dataframe').getOrCreate()"
   ]
  },
  {
   "cell_type": "code",
   "execution_count": 3,
   "id": "acedf2ad-1777-48ac-ab67-7ede4f95e28a",
   "metadata": {},
   "outputs": [
    {
     "data": {
      "text/html": [
       "\n",
       "            <div>\n",
       "                <p><b>SparkSession - in-memory</b></p>\n",
       "                \n",
       "        <div>\n",
       "            <p><b>SparkContext</b></p>\n",
       "\n",
       "            <p><a href=\"http://DESKTOP-9V5PRS1:4040\">Spark UI</a></p>\n",
       "\n",
       "            <dl>\n",
       "              <dt>Version</dt>\n",
       "                <dd><code>v3.5.3</code></dd>\n",
       "              <dt>Master</dt>\n",
       "                <dd><code>local[*]</code></dd>\n",
       "              <dt>AppName</dt>\n",
       "                <dd><code>Dataframe</code></dd>\n",
       "            </dl>\n",
       "        </div>\n",
       "        \n",
       "            </div>\n",
       "        "
      ],
      "text/plain": [
       "<pyspark.sql.session.SparkSession at 0x1fa399c6b10>"
      ]
     },
     "execution_count": 3,
     "metadata": {},
     "output_type": "execute_result"
    }
   ],
   "source": [
    "spark"
   ]
  },
  {
   "cell_type": "markdown",
   "id": "bcf90c0b-4474-4201-8c80-af389baff4f9",
   "metadata": {
    "jp-MarkdownHeadingCollapsed": true
   },
   "source": [
    "## Read the Dataset"
   ]
  },
  {
   "cell_type": "code",
   "execution_count": 4,
   "id": "4b17a1da-7da3-46f6-b5d0-189833c3e8d7",
   "metadata": {},
   "outputs": [],
   "source": [
    "df_pyspark=spark.read.option('header','true').csv('sample1.csv',inferSchema=True)"
   ]
  },
  {
   "cell_type": "code",
   "execution_count": 5,
   "id": "decec53d-8fe8-484c-b51f-627e38b0598e",
   "metadata": {},
   "outputs": [
    {
     "name": "stdout",
     "output_type": "stream",
     "text": [
      "root\n",
      " |-- Name: string (nullable = true)\n",
      " |-- age: integer (nullable = true)\n",
      " |-- Experience: integer (nullable = true)\n",
      " |-- Salary: integer (nullable = true)\n",
      "\n"
     ]
    }
   ],
   "source": [
    "df_pyspark.printSchema()"
   ]
  },
  {
   "cell_type": "code",
   "execution_count": 8,
   "id": "4c5e2b25-f669-48c9-9a84-2557da3d7d74",
   "metadata": {},
   "outputs": [
    {
     "name": "stdout",
     "output_type": "stream",
     "text": [
      "+--------+---+----------+------+\n",
      "|    Name|age|Experience|Salary|\n",
      "+--------+---+----------+------+\n",
      "|    jack| 31|        10| 30000|\n",
      "|    alex| 30|         8| 25000|\n",
      "|caroline| 29|         4| 20000|\n",
      "|    paul| 24|         3| 20000|\n",
      "|  sandra| 21|         1| 15000|\n",
      "|casandra| 23|         2| 18000|\n",
      "+--------+---+----------+------+\n",
      "\n"
     ]
    }
   ],
   "source": [
    "df_pyspark=spark.read.csv('sample1.csv', header=True, inferSchema=True)\n",
    "df_pyspark.show()"
   ]
  },
  {
   "cell_type": "code",
   "execution_count": 9,
   "id": "e3183a31-86cb-4179-8b31-cc8d84c29425",
   "metadata": {},
   "outputs": [
    {
     "name": "stdout",
     "output_type": "stream",
     "text": [
      "root\n",
      " |-- Name: string (nullable = true)\n",
      " |-- age: integer (nullable = true)\n",
      " |-- Experience: integer (nullable = true)\n",
      " |-- Salary: integer (nullable = true)\n",
      "\n"
     ]
    }
   ],
   "source": [
    "df_pyspark.printSchema()"
   ]
  },
  {
   "cell_type": "code",
   "execution_count": 10,
   "id": "e072f190-a9e8-4b80-b2d3-9c1257f67606",
   "metadata": {},
   "outputs": [
    {
     "data": {
      "text/plain": [
       "pyspark.sql.dataframe.DataFrame"
      ]
     },
     "execution_count": 10,
     "metadata": {},
     "output_type": "execute_result"
    }
   ],
   "source": [
    "type(df_pyspark)"
   ]
  },
  {
   "cell_type": "markdown",
   "id": "ae250d47-3a25-4087-8e98-1ee1a241cfa7",
   "metadata": {
    "jp-MarkdownHeadingCollapsed": true
   },
   "source": [
    "## Show Top 3 Records"
   ]
  },
  {
   "cell_type": "code",
   "execution_count": 11,
   "id": "27f8e9b3-ec04-4d9b-b333-9b848c5d098a",
   "metadata": {},
   "outputs": [
    {
     "data": {
      "text/plain": [
       "[Row(Name='jack', age=31, Experience=10, Salary=30000),\n",
       " Row(Name='alex', age=30, Experience=8, Salary=25000),\n",
       " Row(Name='caroline', age=29, Experience=4, Salary=20000)]"
      ]
     },
     "execution_count": 11,
     "metadata": {},
     "output_type": "execute_result"
    }
   ],
   "source": [
    "df_pyspark.head(3)"
   ]
  },
  {
   "cell_type": "code",
   "execution_count": 12,
   "id": "0fc15616-7ded-4961-a4f7-0cc3bf4d40b1",
   "metadata": {},
   "outputs": [
    {
     "name": "stdout",
     "output_type": "stream",
     "text": [
      "+--------+---+----------+------+\n",
      "|    Name|age|Experience|Salary|\n",
      "+--------+---+----------+------+\n",
      "|    jack| 31|        10| 30000|\n",
      "|    alex| 30|         8| 25000|\n",
      "|caroline| 29|         4| 20000|\n",
      "|    paul| 24|         3| 20000|\n",
      "|  sandra| 21|         1| 15000|\n",
      "|casandra| 23|         2| 18000|\n",
      "+--------+---+----------+------+\n",
      "\n"
     ]
    }
   ],
   "source": [
    "df_pyspark.show()"
   ]
  },
  {
   "cell_type": "markdown",
   "id": "8551df95-9663-4608-8f1b-96c230421442",
   "metadata": {
    "jp-MarkdownHeadingCollapsed": true
   },
   "source": [
    "## Show Only Two Columns"
   ]
  },
  {
   "cell_type": "code",
   "execution_count": 13,
   "id": "d7b0d648-6a44-42c2-baa5-a6ba98b827f4",
   "metadata": {},
   "outputs": [
    {
     "name": "stdout",
     "output_type": "stream",
     "text": [
      "+--------+----------+\n",
      "|    Name|Experience|\n",
      "+--------+----------+\n",
      "|    jack|        10|\n",
      "|    alex|         8|\n",
      "|caroline|         4|\n",
      "|    paul|         3|\n",
      "|  sandra|         1|\n",
      "|casandra|         2|\n",
      "+--------+----------+\n",
      "\n"
     ]
    }
   ],
   "source": [
    "df_pyspark.select(['Name','Experience']).show()"
   ]
  },
  {
   "cell_type": "code",
   "execution_count": 14,
   "id": "35daa7e8-69d4-4606-b3d6-12bc4bebe53d",
   "metadata": {},
   "outputs": [
    {
     "data": {
      "text/plain": [
       "Column<'Name'>"
      ]
     },
     "execution_count": 14,
     "metadata": {},
     "output_type": "execute_result"
    }
   ],
   "source": [
    "df_pyspark['Name']"
   ]
  },
  {
   "cell_type": "markdown",
   "id": "7d4951aa-1218-4570-bdd3-1cb1a7dc4d71",
   "metadata": {
    "jp-MarkdownHeadingCollapsed": true
   },
   "source": [
    "## Show Attributes/Columns Data Types"
   ]
  },
  {
   "cell_type": "code",
   "execution_count": 15,
   "id": "079e7f28-e419-4631-bc7d-a8d1aea84260",
   "metadata": {},
   "outputs": [
    {
     "data": {
      "text/plain": [
       "[('Name', 'string'), ('age', 'int'), ('Experience', 'int'), ('Salary', 'int')]"
      ]
     },
     "execution_count": 15,
     "metadata": {},
     "output_type": "execute_result"
    }
   ],
   "source": [
    "df_pyspark.dtypes"
   ]
  },
  {
   "cell_type": "markdown",
   "id": "2ac7d4ce-1840-4148-ab6c-53db63a5e692",
   "metadata": {
    "jp-MarkdownHeadingCollapsed": true
   },
   "source": [
    "## Statistical Summary of Dataset"
   ]
  },
  {
   "cell_type": "code",
   "execution_count": 16,
   "id": "99c2a813-74e2-4727-ba16-95681065ccb1",
   "metadata": {},
   "outputs": [
    {
     "name": "stdout",
     "output_type": "stream",
     "text": [
      "+-------+------+------------------+-----------------+------------------+\n",
      "|summary|  Name|               age|       Experience|            Salary|\n",
      "+-------+------+------------------+-----------------+------------------+\n",
      "|  count|     6|                 6|                6|                 6|\n",
      "|   mean|  NULL|26.333333333333332|4.666666666666667|21333.333333333332|\n",
      "| stddev|  NULL| 4.179314138308661|3.559026084010437| 5354.126134736337|\n",
      "|    min|  alex|                21|                1|             15000|\n",
      "|    max|sandra|                31|               10|             30000|\n",
      "+-------+------+------------------+-----------------+------------------+\n",
      "\n"
     ]
    }
   ],
   "source": [
    "df_pyspark.describe().show()"
   ]
  },
  {
   "cell_type": "markdown",
   "id": "8cfa7dce-9a5e-4ed7-8c50-ffa78a5e9ad2",
   "metadata": {
    "jp-MarkdownHeadingCollapsed": true
   },
   "source": [
    "## Add New Column"
   ]
  },
  {
   "cell_type": "code",
   "execution_count": 17,
   "id": "f6dad7d0-19e0-45f9-81fb-f57f05566560",
   "metadata": {},
   "outputs": [
    {
     "name": "stdout",
     "output_type": "stream",
     "text": [
      "+--------+---+----------+------+-----------------------+\n",
      "|    Name|age|Experience|Salary|Experience After 2 year|\n",
      "+--------+---+----------+------+-----------------------+\n",
      "|    jack| 31|        10| 30000|                     12|\n",
      "|    alex| 30|         8| 25000|                     10|\n",
      "|caroline| 29|         4| 20000|                      6|\n",
      "|    paul| 24|         3| 20000|                      5|\n",
      "|  sandra| 21|         1| 15000|                      3|\n",
      "|casandra| 23|         2| 18000|                      4|\n",
      "+--------+---+----------+------+-----------------------+\n",
      "\n"
     ]
    }
   ],
   "source": [
    "df_pyspark=df_pyspark.withColumn('Experience After 2 year',df_pyspark['Experience']+2)\n",
    "df_pyspark.show()"
   ]
  },
  {
   "cell_type": "markdown",
   "id": "e638c3b3-ed26-4b56-a34c-906ff88ba1a5",
   "metadata": {
    "jp-MarkdownHeadingCollapsed": true
   },
   "source": [
    "## Drop Columns"
   ]
  },
  {
   "cell_type": "code",
   "execution_count": 18,
   "id": "90e4b795-635a-4bbe-b1c4-a83eccb53f42",
   "metadata": {},
   "outputs": [
    {
     "name": "stdout",
     "output_type": "stream",
     "text": [
      "+--------+---+----------+------+\n",
      "|    Name|age|Experience|Salary|\n",
      "+--------+---+----------+------+\n",
      "|    jack| 31|        10| 30000|\n",
      "|    alex| 30|         8| 25000|\n",
      "|caroline| 29|         4| 20000|\n",
      "|    paul| 24|         3| 20000|\n",
      "|  sandra| 21|         1| 15000|\n",
      "|casandra| 23|         2| 18000|\n",
      "+--------+---+----------+------+\n",
      "\n"
     ]
    }
   ],
   "source": [
    "df_pyspark=df_pyspark.drop('Experience After 2 year')\n",
    "df_pyspark.show()"
   ]
  },
  {
   "cell_type": "markdown",
   "id": "3ad8f50c-2a6e-44d1-bb3b-578e96ac93fb",
   "metadata": {
    "jp-MarkdownHeadingCollapsed": true
   },
   "source": [
    "## Rename Column"
   ]
  },
  {
   "cell_type": "code",
   "execution_count": 19,
   "id": "8ad7842d-812c-450f-ab76-95bdceada1ec",
   "metadata": {},
   "outputs": [
    {
     "name": "stdout",
     "output_type": "stream",
     "text": [
      "+-------------+---+----------+------+\n",
      "|Employee Name|age|Experience|Salary|\n",
      "+-------------+---+----------+------+\n",
      "|         jack| 31|        10| 30000|\n",
      "|         alex| 30|         8| 25000|\n",
      "|     caroline| 29|         4| 20000|\n",
      "|         paul| 24|         3| 20000|\n",
      "|       sandra| 21|         1| 15000|\n",
      "|     casandra| 23|         2| 18000|\n",
      "+-------------+---+----------+------+\n",
      "\n"
     ]
    }
   ],
   "source": [
    "df_pyspark.withColumnRenamed('Name','Employee Name').show()"
   ]
  }
 ],
 "metadata": {
  "kernelspec": {
   "display_name": "Python 3 (ipykernel)",
   "language": "python",
   "name": "python3"
  },
  "language_info": {
   "codemirror_mode": {
    "name": "ipython",
    "version": 3
   },
   "file_extension": ".py",
   "mimetype": "text/x-python",
   "name": "python",
   "nbconvert_exporter": "python",
   "pygments_lexer": "ipython3",
   "version": "3.12.4"
  }
 },
 "nbformat": 4,
 "nbformat_minor": 5
}
